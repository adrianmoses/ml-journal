{
 "cells": [
  {
   "cell_type": "markdown",
   "source": "# AI and ML for Coders\n\nLet's see how to tokenize with Tensorflow Keras",
   "metadata": {
    "tags": [],
    "cell_id": "00001-3fc84e9f-1220-4f87-8c4f-a83fd73a8ff7",
    "deepnote_cell_type": "markdown"
   }
  },
  {
   "cell_type": "code",
   "metadata": {
    "cell_id": "00000-a8b2489d-e54e-4eb8-aed2-dcc7bab246bd",
    "deepnote_to_be_reexecuted": false,
    "source_hash": "d129d791",
    "execution_start": 1632773619119,
    "execution_millis": 5048,
    "deepnote_cell_type": "code"
   },
   "source": "import tensorflow\nfrom tensorflow import keras\nfrom tensorflow.keras.preprocessing.text import Tokenizer\n\nsentences = [\n    'Today is a sunny day',\n    'Today is a rainy day',\n    'Is it sunny today?'\n]\n\ntokenizer = Tokenizer(num_words=100)\ntokenizer.fit_on_texts(sentences)\nword_index = tokenizer.word_index\nprint(word_index)",
   "execution_count": 1,
   "outputs": [
    {
     "name": "stderr",
     "text": "2021-09-27 20:13:39.520371: W tensorflow/stream_executor/platform/default/dso_loader.cc:60] Could not load dynamic library 'libcudart.so.11.0'; dlerror: libcudart.so.11.0: cannot open shared object file: No such file or directory\n2021-09-27 20:13:39.520431: I tensorflow/stream_executor/cuda/cudart_stub.cc:29] Ignore above cudart dlerror if you do not have a GPU set up on your machine.\n{'today': 1, 'is': 2, 'a': 3, 'sunny': 4, 'day': 5, 'rainy': 6, 'it': 7}\n",
     "output_type": "stream"
    }
   ]
  },
  {
   "cell_type": "code",
   "source": "sequences = tokenizer.texts_to_sequences(sentences)\nprint(sequences)",
   "metadata": {
    "tags": [],
    "cell_id": "00002-e706afa1-9b4d-4541-bb49-9e53507743f7",
    "deepnote_to_be_reexecuted": false,
    "source_hash": "4ffa8112",
    "execution_start": 1632773624170,
    "execution_millis": 20,
    "deepnote_cell_type": "code"
   },
   "outputs": [
    {
     "name": "stdout",
     "text": "[[1, 2, 3, 4, 5], [1, 2, 3, 6, 5], [2, 7, 4, 1]]\n",
     "output_type": "stream"
    }
   ],
   "execution_count": 2
  },
  {
   "cell_type": "markdown",
   "source": "`fit_on_texts` fits the tokenizer to the words, creating a vocabulary\n\nThis means words not provided in the initial sentences will be ignored. Instead of ignoring, which will remove context and information, tokenize unknown words with special tokens. These unknonw words are considered out-of-vocabulary tokens or `OOV`",
   "metadata": {
    "tags": [],
    "cell_id": "00004-28ff3467-542d-4571-85fb-6db1e3d56f74",
    "deepnote_cell_type": "markdown"
   }
  },
  {
   "cell_type": "code",
   "source": "test_data = [\n    'Today is a snowy day',\n    'Will it be rainy tomorrow?'\n]",
   "metadata": {
    "tags": [],
    "cell_id": "00003-e719f1a4-fe25-4a24-a787-a5d137e4c459",
    "deepnote_to_be_reexecuted": false,
    "source_hash": "d98bcb1a",
    "execution_start": 1632773624179,
    "execution_millis": 17,
    "deepnote_cell_type": "code"
   },
   "outputs": [],
   "execution_count": 3
  },
  {
   "cell_type": "code",
   "source": "tokenizer = Tokenizer(num_words=100, oov_token=\"<OOV>\")\ntokenizer.fit_on_texts(sentences)\nword_index = tokenizer.word_index\nsequences = tokenizer.texts_to_sequences(sentences)\n\ntest_sequences = tokenizer.texts_to_sequences(test_data)\nprint(word_index)\nprint(test_sequences)",
   "metadata": {
    "tags": [],
    "cell_id": "00005-cb4cea11-4916-47f9-b5e3-e8b688f97638",
    "deepnote_to_be_reexecuted": false,
    "source_hash": "52271261",
    "execution_start": 1632773624197,
    "execution_millis": 18,
    "deepnote_cell_type": "code"
   },
   "outputs": [
    {
     "name": "stdout",
     "text": "{'<OOV>': 1, 'today': 2, 'is': 3, 'a': 4, 'sunny': 5, 'day': 6, 'rainy': 7, 'it': 8}\n[[2, 3, 4, 1, 6], [1, 8, 1, 7, 1]]\n",
     "output_type": "stream"
    }
   ],
   "execution_count": 4
  },
  {
   "cell_type": "markdown",
   "source": "Sequences have to be of equal length when input into a model. To handle inputing batch sentences of varying size, pad the sentences with padding tokens with the max expected length",
   "metadata": {
    "tags": [],
    "cell_id": "00006-59cec3d6-e816-4c2c-b53e-67130452f37c",
    "deepnote_cell_type": "markdown"
   }
  },
  {
   "cell_type": "code",
   "source": "sentences = [\n    'Today is a sunny day',\n    'Today is a rainy day',\n    'Is it sunny today?',\n    'I really enjoyed walking in the snow today'\n]\n\nseq = tokenizer.texts_to_sequences(sentences)\nprint(seq)",
   "metadata": {
    "tags": [],
    "cell_id": "00006-e399e524-6bfc-4c96-a592-f635fc2bb005",
    "deepnote_to_be_reexecuted": false,
    "source_hash": "34e52773",
    "execution_start": 1632773624198,
    "execution_millis": 17,
    "deepnote_cell_type": "code"
   },
   "outputs": [
    {
     "name": "stdout",
     "text": "[[2, 3, 4, 5, 6], [2, 3, 4, 7, 6], [3, 8, 5, 2], [1, 1, 1, 1, 1, 1, 1, 2]]\n",
     "output_type": "stream"
    }
   ],
   "execution_count": 5
  },
  {
   "cell_type": "code",
   "source": "from tensorflow.keras.preprocessing.sequence import pad_sequences\n\npadded = pad_sequences(seq)\nprint(padded)",
   "metadata": {
    "tags": [],
    "cell_id": "00008-a977a913-f04e-4e2d-9382-6aa521f64637",
    "deepnote_to_be_reexecuted": false,
    "source_hash": "f053309b",
    "execution_start": 1632773624200,
    "execution_millis": 15,
    "deepnote_cell_type": "code"
   },
   "outputs": [
    {
     "name": "stdout",
     "text": "[[0 0 0 2 3 4 5 6]\n [0 0 0 2 3 4 7 6]\n [0 0 0 0 3 8 5 2]\n [1 1 1 1 1 1 1 2]]\n",
     "output_type": "stream"
    }
   ],
   "execution_count": 6
  },
  {
   "cell_type": "markdown",
   "source": "By default sequences are _pre-padded_ use the `padding` parameter to use _postpadding_",
   "metadata": {
    "tags": [],
    "cell_id": "00009-d3897a25-94b6-401c-9ecb-f1838c6dfd50",
    "deepnote_cell_type": "markdown"
   }
  },
  {
   "cell_type": "code",
   "source": "padded = pad_sequences(seq, padding='post')\nprint(padded)",
   "metadata": {
    "tags": [],
    "cell_id": "00009-553b4451-3440-4260-980b-ea6b3eae46e6",
    "deepnote_to_be_reexecuted": false,
    "source_hash": "dfa90de0",
    "execution_start": 1632773624202,
    "execution_millis": 13,
    "deepnote_cell_type": "code"
   },
   "outputs": [
    {
     "name": "stdout",
     "text": "[[2 3 4 5 6 0 0 0]\n [2 3 4 7 6 0 0 0]\n [3 8 5 2 0 0 0 0]\n [1 1 1 1 1 1 1 2]]\n",
     "output_type": "stream"
    }
   ],
   "execution_count": 7
  },
  {
   "cell_type": "markdown",
   "source": "Set desired max length with `maxlen` parameter",
   "metadata": {
    "tags": [],
    "cell_id": "00011-233d6da5-6374-4010-af62-7b3675c89deb",
    "deepnote_cell_type": "markdown"
   }
  },
  {
   "cell_type": "code",
   "source": "padded = pad_sequences(seq, padding='post', maxlen=6)\nprint(padded)\n\npadded = pad_sequences(seq, padding='post', maxlen=6, truncating='post')\nprint(padded)",
   "metadata": {
    "tags": [],
    "cell_id": "00011-c58da795-ceaa-49c3-8646-4e2af23b16a3",
    "deepnote_to_be_reexecuted": false,
    "source_hash": "c083aa2a",
    "execution_start": 1632773624208,
    "execution_millis": 9,
    "deepnote_cell_type": "code"
   },
   "outputs": [
    {
     "name": "stdout",
     "text": "[[2 3 4 5 6 0]\n [2 3 4 7 6 0]\n [3 8 5 2 0 0]\n [1 1 1 1 1 2]]\n[[2 3 4 5 6 0]\n [2 3 4 7 6 0]\n [3 8 5 2 0 0]\n [1 1 1 1 1 1]]\n",
     "output_type": "stream"
    }
   ],
   "execution_count": 8
  },
  {
   "cell_type": "code",
   "source": "!pip install bs4==0.0.1",
   "metadata": {
    "tags": [],
    "cell_id": "00013-a7c5ed8e-f45c-4798-aa25-f077d14d2e2b",
    "deepnote_to_be_reexecuted": false,
    "source_hash": "6c3283c9",
    "execution_start": 1632773624255,
    "execution_millis": 4739,
    "deepnote_cell_type": "code"
   },
   "outputs": [
    {
     "name": "stdout",
     "text": "Collecting bs4==0.0.1\n  Downloading bs4-0.0.1.tar.gz (1.1 kB)\nCollecting beautifulsoup4\n  Downloading beautifulsoup4-4.10.0-py3-none-any.whl (97 kB)\n\u001b[K     |████████████████████████████████| 97 kB 10.9 MB/s \n\u001b[?25hCollecting soupsieve>1.2\n  Downloading soupsieve-2.2.1-py3-none-any.whl (33 kB)\nBuilding wheels for collected packages: bs4\n  Building wheel for bs4 (setup.py) ... \u001b[?25ldone\n\u001b[?25h  Created wheel for bs4: filename=bs4-0.0.1-py3-none-any.whl size=1271 sha256=f67f7b5c87f807d24ab2ef5d7af5fd87fcc137e10260e70e370ef17f6b427d4f\n  Stored in directory: /root/.cache/pip/wheels/0a/9e/ba/20e5bbc1afef3a491f0b3bb74d508f99403aabe76eda2167ca\nSuccessfully built bs4\nInstalling collected packages: soupsieve, beautifulsoup4, bs4\nSuccessfully installed beautifulsoup4-4.10.0 bs4-0.0.1 soupsieve-2.2.1\n",
     "output_type": "stream"
    }
   ],
   "execution_count": 9
  },
  {
   "cell_type": "code",
   "source": "from bs4 import BeautifulSoup\nsoup = BeautifulSoup(sentences[0])\nsentence = soup.get_text()",
   "metadata": {
    "tags": [],
    "cell_id": "00013-f411650a-4b10-4c46-b70f-4ec32bfab3bc",
    "deepnote_to_be_reexecuted": false,
    "source_hash": "3896409c",
    "execution_start": 1632773628997,
    "execution_millis": 100,
    "deepnote_cell_type": "code"
   },
   "outputs": [],
   "execution_count": 10
  },
  {
   "cell_type": "markdown",
   "source": "## Skipping rest of chapter\n\nThe rest of the chapter goes into loading data from different data sources and tokenizing them. For me that's very trivial, so i'm going to skip. \n\nUltimately I hope to not follow a textbook but start creating my own projects.",
   "metadata": {
    "tags": [],
    "cell_id": "00016-2ff05185-667f-457a-9b75-7f21a524e289",
    "deepnote_cell_type": "markdown"
   }
  },
  {
   "cell_type": "markdown",
   "source": "<a style='text-decoration:none;line-height:16px;display:flex;color:#5B5B62;padding:10px;justify-content:end;' href='https://deepnote.com?utm_source=created-in-deepnote-cell&projectId=2917b4c9-c92f-4224-9a22-9b2a43486dc1' target=\"_blank\">\n<img alt='Created in deepnote.com' style='display:inline;max-height:16px;margin:0px;margin-right:7.5px;' src='data:image/svg+xml;base64,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' > </img>\nCreated in <span style='font-weight:600;margin-left:4px;'>Deepnote</span></a>",
   "metadata": {
    "tags": [],
    "created_in_deepnote_cell": true,
    "deepnote_cell_type": "markdown"
   }
  }
 ],
 "nbformat": 4,
 "nbformat_minor": 2,
 "metadata": {
  "orig_nbformat": 4,
  "language_info": {
   "name": "python"
  },
  "deepnote_notebook_id": "84246a5c-843c-4d7f-9e7e-65d24ba6c014",
  "deepnote": {},
  "deepnote_execution_queue": []
 }
}